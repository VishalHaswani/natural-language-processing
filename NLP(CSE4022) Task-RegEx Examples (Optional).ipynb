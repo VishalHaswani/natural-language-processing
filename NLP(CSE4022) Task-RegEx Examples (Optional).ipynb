{
 "cells": [
  {
   "cell_type": "markdown",
   "id": "9478b20b",
   "metadata": {},
   "source": [
    "Name: `Vishal Haswani`\\\n",
    "Reg. No: `19BCI0181`\\\n",
    "Faculty: `Sharmila Banu K.`\n",
    "\n",
    "# Examples of Regular Expressions in Python\n",
    "## Importing Libraries"
   ]
  },
  {
   "cell_type": "code",
   "execution_count": 1,
   "id": "fad5af21",
   "metadata": {},
   "outputs": [],
   "source": [
    "import re"
   ]
  },
  {
   "cell_type": "markdown",
   "id": "72d9b4d6",
   "metadata": {},
   "source": [
    "## Example 1\n",
    "\n",
    "Find all the words starting with 'W'."
   ]
  },
  {
   "cell_type": "code",
   "execution_count": 2,
   "id": "efeeb2cd",
   "metadata": {},
   "outputs": [
    {
     "name": "stdout",
     "output_type": "stream",
     "text": [
      "['Working', 'with']\n"
     ]
    }
   ],
   "source": [
    "pattern = '[Ww][^ ]*'\n",
    "test_string = 'Working with Vishal is very fun!'\n",
    "matches = re.findall(pattern, test_string)\n",
    "\n",
    "print(matches)"
   ]
  },
  {
   "cell_type": "markdown",
   "id": "c3ed84d8",
   "metadata": {},
   "source": [
    "## Example 2\n",
    "Find all words ending with 'n' or 'h'"
   ]
  },
  {
   "cell_type": "code",
   "execution_count": 3,
   "id": "e9bdfa6a",
   "metadata": {},
   "outputs": [
    {
     "name": "stdout",
     "output_type": "stream",
     "text": [
      "Result 1: ['with ', 'fun!']\n",
      "Result 2: ['with', 'fun']\n"
     ]
    }
   ],
   "source": [
    "pattern = '[A-Za-z]*[nh][^A-Za-z]'\n",
    "test_string = 'Working with Vishal is very fun!'\n",
    "matches = re.findall(pattern, test_string)\n",
    "print(\"Result 1:\", matches)\n",
    "\n",
    "# notice an additinal \" \" and \"!\" also gets printed, we can fix that with bellow pattern\n",
    "pattern = '([A-Za-z]*[nh])[^A-Za-z]'\n",
    "test_string = 'Working with Vishal is very fun!'\n",
    "matches = re.findall(pattern, test_string)\n",
    "print(\"Result 2:\", matches)"
   ]
  },
  {
   "cell_type": "markdown",
   "id": "89bfa987",
   "metadata": {},
   "source": [
    "## Example 3\n",
    "\n",
    "Find all numbers in the string."
   ]
  },
  {
   "cell_type": "code",
   "execution_count": 4,
   "id": "ceafa41e",
   "metadata": {},
   "outputs": [
    {
     "name": "stdout",
     "output_type": "stream",
     "text": [
      "['10', '11', '15', '42']\n"
     ]
    }
   ],
   "source": [
    "pattern = '[0-9]+'\n",
    "test_string = '10, 11 and 15 are my lucky numbers. But I like 42 the most'\n",
    "matches = re.findall(pattern, test_string)\n",
    "\n",
    "print(matches)"
   ]
  },
  {
   "cell_type": "markdown",
   "id": "7427b9f2",
   "metadata": {},
   "source": [
    "## Example 4\n",
    "\n",
    "Find the email ID in the below string. Also try to split the differnet components of it."
   ]
  },
  {
   "cell_type": "code",
   "execution_count": 5,
   "id": "5448ea8f",
   "metadata": {},
   "outputs": [
    {
     "name": "stdout",
     "output_type": "stream",
     "text": [
      "[('vishal.haswani2019', 'vitstudent', '.ac.in'), ('abcd.246', 'gmail', '.com')]\n"
     ]
    }
   ],
   "source": [
    "pattern = '([a-z0-9\\.]+)@([a-z]+)(.[a-z\\.]+)'\n",
    "test_string = 'Hey Dev, please send me the report on vishal.haswani2019@vitstudent.ac.in and abcd.246@gmail.com'\n",
    "matches = re.findall(pattern, test_string)\n",
    "\n",
    "print(matches)"
   ]
  },
  {
   "cell_type": "markdown",
   "id": "bf1bba8d",
   "metadata": {},
   "source": [
    "## Example 5\n",
    "\n",
    "Split the sentance w.r.t. a period, comma or an ampersand symbol."
   ]
  },
  {
   "cell_type": "code",
   "execution_count": 6,
   "id": "c5eeeb92",
   "metadata": {},
   "outputs": [
    {
     "name": "stdout",
     "output_type": "stream",
     "text": [
      "['No', ' I do not want an ice-cream ', ' please close the door before you leave', ' Thank you', '']\n"
     ]
    }
   ],
   "source": [
    "pattern = '[\\.,&]'\n",
    "test_string = 'No, I do not want an ice-cream & please close the door before you leave. Thank you.'\n",
    "parts = re.split(pattern, test_string)\n",
    "\n",
    "print(parts)"
   ]
  },
  {
   "cell_type": "markdown",
   "id": "34a0945e",
   "metadata": {},
   "source": [
    "## Example 6\n",
    "\n",
    "Find all words starting with capital letters in the given sentance."
   ]
  },
  {
   "cell_type": "code",
   "execution_count": 7,
   "id": "918ff7d1",
   "metadata": {},
   "outputs": [
    {
     "name": "stdout",
     "output_type": "stream",
     "text": [
      "['Vishal', 'Dev', 'Sarthak', 'Rahul', 'Please']\n"
     ]
    }
   ],
   "source": [
    "pattern = '[ ]([A-Z][a-z]+)'\n",
    "test_string = 'THe favouRate members of the team are Vishal, Dev, Sarthak and Rahul. Please bring them tomorrow.'\n",
    "matches = re.findall(pattern, test_string)\n",
    "\n",
    "print(matches)"
   ]
  },
  {
   "cell_type": "markdown",
   "id": "bf762594",
   "metadata": {},
   "source": [
    "## Example 7\n",
    "\n",
    "Substitute all white spaces with '-::|::-'. If multiple white spaces are present then replace with only one string '-::|::-'."
   ]
  },
  {
   "cell_type": "code",
   "execution_count": 8,
   "id": "873c29b3",
   "metadata": {},
   "outputs": [
    {
     "name": "stdout",
     "output_type": "stream",
     "text": [
      "THe-::|::-favourate-::|::-members-::|::-of-::|::-the-::|::-team-::|::-are-::|::-Vishal-::|::-and-::|::-Dev.\n"
     ]
    }
   ],
   "source": [
    "pattern = '[ ]+'\n",
    "test_string = 'THe  favourate    members of the  team are Vishal and Dev.'\n",
    "result_string = re.sub(pattern, '-::|::-', test_string)\n",
    "\n",
    "print(result_string)"
   ]
  },
  {
   "cell_type": "markdown",
   "id": "cd1910a5",
   "metadata": {},
   "source": [
    "## Example 8\n",
    "\n",
    "Return a list of words that have a 'ai' string in them. (NOT CASE SENSITIVE)"
   ]
  },
  {
   "cell_type": "code",
   "execution_count": 9,
   "id": "efbdd019",
   "metadata": {},
   "outputs": [
    {
     "name": "stdout",
     "output_type": "stream",
     "text": [
      "['raining', 'Spain', 'Stain']\n"
     ]
    }
   ],
   "source": [
    "pattern = '[A-Za-z]*[Aa][iI][A-Za-z]*'\n",
    "test_string = 'It is raining in Spain, Stain is still out there.'\n",
    "matches = re.findall(pattern, test_string)\n",
    "\n",
    "print(matches)"
   ]
  },
  {
   "cell_type": "markdown",
   "id": "f2b9252c",
   "metadata": {},
   "source": [
    "## Example 9\n",
    "\n",
    "Convert PascalCase to normal english.(eg. IAmSmart => I Am Smart)"
   ]
  },
  {
   "cell_type": "code",
   "execution_count": 10,
   "id": "fc30b0eb",
   "metadata": {},
   "outputs": [
    {
     "name": "stdout",
     "output_type": "stream",
     "text": [
      "I Am Smart And This Is An Assessment\n"
     ]
    }
   ],
   "source": [
    "test_string = 'IAmSmartAndThisIsAnAssessment'\n",
    "result_string = re.sub('([A-Z][a-z]*)', '\\\\1 ', test_string).rstrip()\n",
    "\n",
    "print(result_string)"
   ]
  },
  {
   "cell_type": "markdown",
   "id": "941af98e",
   "metadata": {},
   "source": [
    "## Example 10\n",
    "\n",
    "Convert PascleCase or CamalCase to snake_case.(eg. IAmSmart => i_am_smart)"
   ]
  },
  {
   "cell_type": "code",
   "execution_count": 11,
   "id": "463b2198",
   "metadata": {},
   "outputs": [
    {
     "name": "stdout",
     "output_type": "stream",
     "text": [
      "i_am_smart_and_this_is_an_assessment\n"
     ]
    }
   ],
   "source": [
    "test_string = 'iAmSmartAndThisIsAnAssessment'\n",
    "\n",
    "def substitution_logic(match_obj):\n",
    "    return match_obj.group().lower() + '_'\n",
    "result_string = re.sub('((^[a-z])|([A-Z][a-z]*))', substitution_logic, test_string)[:-1]\n",
    "\n",
    "print(result_string)"
   ]
  },
  {
   "cell_type": "markdown",
   "id": "8b159ef5",
   "metadata": {},
   "source": [
    "<center><h1>Thank you</h1></center>"
   ]
  }
 ],
 "metadata": {
  "kernelspec": {
   "display_name": "Python 3 (ipykernel)",
   "language": "python",
   "name": "python3"
  },
  "language_info": {
   "codemirror_mode": {
    "name": "ipython",
    "version": 3
   },
   "file_extension": ".py",
   "mimetype": "text/x-python",
   "name": "python",
   "nbconvert_exporter": "python",
   "pygments_lexer": "ipython3",
   "version": "3.10.8"
  }
 },
 "nbformat": 4,
 "nbformat_minor": 5
}
