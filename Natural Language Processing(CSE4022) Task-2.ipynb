{
 "cells": [
  {
   "cell_type": "markdown",
   "id": "b99546b7",
   "metadata": {},
   "source": [
    "Name: `Vishal Haswani`\\\n",
    "Reg. No: `19BCI0181`\\\n",
    "Faculty: `Sharmila Banu K.`"
   ]
  },
  {
   "cell_type": "markdown",
   "id": "254f6f48",
   "metadata": {},
   "source": [
    "## 1. Creating a text classifier\n",
    "### Creating the Datasets"
   ]
  },
  {
   "cell_type": "code",
   "execution_count": 4,
   "id": "dcd3143e",
   "metadata": {},
   "outputs": [],
   "source": [
    "def gender_features(name):\n",
    "    return {'last_letter': name[-1]}"
   ]
  },
  {
   "cell_type": "code",
   "execution_count": 5,
   "id": "ffc5a410",
   "metadata": {},
   "outputs": [
    {
     "name": "stdout",
     "output_type": "stream",
     "text": [
      "[('Zak', 'male'), ('Uta', 'female'), ('Anna-Maria', 'female'), ('Major', 'male'), ('Jaquith', 'female'), ('Marlon', 'male'), ('Channa', 'female'), ('Hurley', 'male'), ('Raphael', 'male'), ('Florry', 'female')]\n",
      "Size: 7944\n"
     ]
    }
   ],
   "source": [
    "from nltk.corpus import names\n",
    "labeled_names = ([(name, 'male') for name in names.words('male.txt')] + [(name, 'female') for name in names.words('female.txt')])\n",
    "\n",
    "import random\n",
    "random.shuffle(labeled_names)\n",
    "print(labeled_names[:10])\n",
    "\n",
    "print('Size:', len(labeled_names))"
   ]
  },
  {
   "cell_type": "code",
   "execution_count": 8,
   "id": "81e92c21",
   "metadata": {},
   "outputs": [
    {
     "name": "stdout",
     "output_type": "stream",
     "text": [
      "[({'last_letter': 'k'}, 'male'), ({'last_letter': 'a'}, 'female'), ({'last_letter': 'a'}, 'female'), ({'last_letter': 'r'}, 'male'), ({'last_letter': 'h'}, 'female'), ({'last_letter': 'n'}, 'male'), ({'last_letter': 'a'}, 'female'), ({'last_letter': 'y'}, 'male'), ({'last_letter': 'l'}, 'male'), ({'last_letter': 'y'}, 'female')]\n"
     ]
    }
   ],
   "source": [
    "featuresets = [(gender_features(n), gender) for (n, gender) in labeled_names]\n",
    "print(featuresets[:10])"
   ]
  },
  {
   "cell_type": "code",
   "execution_count": 9,
   "id": "7fcbb001",
   "metadata": {},
   "outputs": [],
   "source": [
    "train_set, test_set = featuresets[500:], featuresets[:500]"
   ]
  },
  {
   "cell_type": "markdown",
   "id": "e4eb3f20",
   "metadata": {},
   "source": [
    "### Training the classifier"
   ]
  },
  {
   "cell_type": "code",
   "execution_count": 11,
   "id": "214e8ca3",
   "metadata": {},
   "outputs": [],
   "source": [
    "import nltk\n",
    "classifier = nltk.NaiveBayesClassifier.train(train_set)"
   ]
  },
  {
   "cell_type": "code",
   "execution_count": 12,
   "id": "2c8136d6",
   "metadata": {},
   "outputs": [
    {
     "name": "stdout",
     "output_type": "stream",
     "text": [
      "male\n"
     ]
    }
   ],
   "source": [
    "print(classifier.classify(gender_features('David')))"
   ]
  },
  {
   "cell_type": "code",
   "execution_count": 13,
   "id": "b4330805",
   "metadata": {},
   "outputs": [
    {
     "name": "stdout",
     "output_type": "stream",
     "text": [
      "0.772\n"
     ]
    }
   ],
   "source": [
    "print(nltk.classify.accuracy(classifier, test_set))"
   ]
  },
  {
   "cell_type": "markdown",
   "id": "1a51ba05",
   "metadata": {},
   "source": [
    "## 2. Creating a Tweet Tokenizer"
   ]
  },
  {
   "cell_type": "code",
   "execution_count": 14,
   "id": "57eeae5e",
   "metadata": {},
   "outputs": [
    {
     "data": {
      "text/plain": [
       "['This', 'Party', 'is', 'soo', 'fun', '😍', '#superfun']"
      ]
     },
     "execution_count": 14,
     "metadata": {},
     "output_type": "execute_result"
    }
   ],
   "source": [
    "from nltk.tokenize import TweetTokenizer\n",
    "\n",
    "text = 'This Party is soo fun 😍 #superfun'\n",
    "twtkn = TweetTokenizer()\n",
    "twtkn.tokenize(text)"
   ]
  },
  {
   "cell_type": "markdown",
   "id": "66a4cbd4",
   "metadata": {},
   "source": [
    "## 3. Checkout [COCA](https://www.english-corpora.org/coca/)\n",
    "1. Create an account using your Educational ID. **Done**\n",
    "2. Check out the \"Charts\" feature and try to see results with different words. **Done**\n",
    "3. Explore more features."
   ]
  },
  {
   "cell_type": "markdown",
   "id": "855f722d",
   "metadata": {},
   "source": [
    "<center><h1>Thank You</h1></center>"
   ]
  }
 ],
 "metadata": {
  "kernelspec": {
   "display_name": "Python 3 (ipykernel)",
   "language": "python",
   "name": "python3"
  },
  "language_info": {
   "codemirror_mode": {
    "name": "ipython",
    "version": 3
   },
   "file_extension": ".py",
   "mimetype": "text/x-python",
   "name": "python",
   "nbconvert_exporter": "python",
   "pygments_lexer": "ipython3",
   "version": "3.10.8"
  }
 },
 "nbformat": 4,
 "nbformat_minor": 5
}
