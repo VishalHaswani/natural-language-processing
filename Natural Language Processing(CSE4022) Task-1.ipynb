{
 "cells": [
  {
   "cell_type": "markdown",
   "id": "3d2689e5",
   "metadata": {},
   "source": [
    "Name: `Vishal Haswani`\\\n",
    "Reg. No: `19BCI0181`\\\n",
    "Faculty: `Sharmila Banu K.`"
   ]
  },
  {
   "cell_type": "markdown",
   "id": "50cc2010",
   "metadata": {},
   "source": [
    "## 1. Installation"
   ]
  },
  {
   "cell_type": "markdown",
   "id": "50fccfc5",
   "metadata": {},
   "source": [
    "###### Open a terminal and run below commands(one-time setup):\\\n",
    "`pip install -U nltk`\\\n",
    "`pip install -U numpy`\\\n",
    "`python`\\\n",
    "`import nltk`\\\n",
    "`nltk.download()`"
   ]
  },
  {
   "cell_type": "code",
   "execution_count": 6,
   "id": "6f19f965",
   "metadata": {},
   "outputs": [
    {
     "data": {
      "text/plain": [
       "['adventure',\n",
       " 'belles_lettres',\n",
       " 'editorial',\n",
       " 'fiction',\n",
       " 'government',\n",
       " 'hobbies',\n",
       " 'humor',\n",
       " 'learned',\n",
       " 'lore',\n",
       " 'mystery',\n",
       " 'news',\n",
       " 'religion',\n",
       " 'reviews',\n",
       " 'romance',\n",
       " 'science_fiction']"
      ]
     },
     "execution_count": 6,
     "metadata": {},
     "output_type": "execute_result"
    }
   ],
   "source": [
    "import nltk\n",
    "\n",
    "from nltk.corpus import brown\n",
    "brown.categories()"
   ]
  },
  {
   "cell_type": "markdown",
   "id": "d1ad805c",
   "metadata": {},
   "source": [
    "## 2. Importing Libraries"
   ]
  },
  {
   "cell_type": "code",
   "execution_count": 7,
   "id": "a1b01ad7",
   "metadata": {},
   "outputs": [
    {
     "data": {
      "text/plain": [
       "['Fellow',\n",
       " '-',\n",
       " 'Citizens',\n",
       " 'of',\n",
       " 'the',\n",
       " 'United',\n",
       " 'States',\n",
       " ':',\n",
       " 'In',\n",
       " 'compliance']"
      ]
     },
     "execution_count": 7,
     "metadata": {},
     "output_type": "execute_result"
    }
   ],
   "source": [
    "from nltk.corpus import inaugural\n",
    "inaugural.words(fileids='1861-lincoln.txt')[:10]"
   ]
  },
  {
   "cell_type": "markdown",
   "id": "02ff8ec9",
   "metadata": {},
   "source": [
    "## 3. Frequency Distribution"
   ]
  },
  {
   "cell_type": "code",
   "execution_count": 9,
   "id": "d8a14676",
   "metadata": {},
   "outputs": [
    {
     "data": {
      "text/plain": [
       "FreqDist({'the': 4, 'kW)': 3, 'Ninja': 2, 'H2R': 2, 'fastest': 2, 'and': 2, 'a': 2, 'of': 2, 'horsepower': 2, 'with': 2, ...})"
      ]
     },
     "execution_count": 9,
     "metadata": {},
     "output_type": "execute_result"
    }
   ],
   "source": [
    "text1 = 'Its Ninja H2R track-only variant is the fastest and most powerful production motorcycle on the market, producing a maximum of 310 horsepower (230 kW) and 326 horsepower (243 kW) with ram-air.[1] The H2R has 50% more power than the fastest street-legal motorcycles,[which?] while the street-legal Ninja H2 has a lower power output of 200 hp (150 kW)[21]–210 hp (160 kW) with ram-air.'\n",
    "fd = nltk.FreqDist(text1.split())\n",
    "fd"
   ]
  },
  {
   "cell_type": "markdown",
   "id": "a1dc991d",
   "metadata": {},
   "source": [
    "## 4. Conditional frequency"
   ]
  },
  {
   "cell_type": "code",
   "execution_count": 10,
   "id": "85362580",
   "metadata": {},
   "outputs": [
    {
     "data": {
      "text/plain": [
       "FreqDist({'with': 2, 'most': 1, '(230': 1, '(243': 1, 'more': 1, 'than': 1, '(150': 1, '(160': 1})"
      ]
     },
     "execution_count": 10,
     "metadata": {},
     "output_type": "execute_result"
    }
   ],
   "source": [
    "from nltk.probability import ConditionalFreqDist\n",
    "cfd = ConditionalFreqDist((len(word),word) for word in text1.split())\n",
    "cfd[4]"
   ]
  },
  {
   "cell_type": "markdown",
   "id": "fbfe8338",
   "metadata": {},
   "source": [
    "## Question:\n",
    "Determine frequency distrbution and Conditional Frequency Distribution of any one of the Presidential addresses."
   ]
  },
  {
   "cell_type": "code",
   "execution_count": 11,
   "id": "a5321700",
   "metadata": {},
   "outputs": [
    {
     "data": {
      "text/plain": [
       "FreqDist({'that': 57, 'will': 25, 'this': 23, 'with': 20, 'have': 20, 'from': 16, 'such': 15, 'upon': 15, 'them': 13, 'than': 13, ...})"
      ]
     },
     "execution_count": 11,
     "metadata": {},
     "output_type": "execute_result"
    }
   ],
   "source": [
    "cfd = ConditionalFreqDist((len(word),word) for word in inaugural.words(fileids='1861-lincoln.txt'))\n",
    "cfd[4]"
   ]
  },
  {
   "cell_type": "code",
   "execution_count": 12,
   "id": "f8e9de8e",
   "metadata": {},
   "outputs": [
    {
     "data": {
      "text/plain": [
       "FreqDist({'the': 240, ',': 195, 'of': 146, 'to': 132, '.': 110, 'and': 101, 'be': 76, 'in': 72, 'that': 57, 'a': 53, ...})"
      ]
     },
     "execution_count": 12,
     "metadata": {},
     "output_type": "execute_result"
    }
   ],
   "source": [
    "word = nltk.FreqDist(inaugural.words(fileids = '1861-lincoln.txt'))\n",
    "word"
   ]
  },
  {
   "cell_type": "markdown",
   "id": "6aa5f0dd",
   "metadata": {},
   "source": [
    "## 5. Installing jieba\n",
    "Run: `pip install jieba`"
   ]
  },
  {
   "cell_type": "code",
   "execution_count": 15,
   "id": "71e1bca8",
   "metadata": {},
   "outputs": [
    {
     "name": "stdout",
     "output_type": "stream",
     "text": [
      "\n"
     ]
    }
   ],
   "source": [
    "import jieba\n",
    "seg = jieba.cut(\"\",cut_all = True)\n",
    "print(\" \".join(seg))"
   ]
  },
  {
   "cell_type": "markdown",
   "id": "d437b9a8",
   "metadata": {},
   "source": [
    "## 6. Basic Text Processing Pipeline"
   ]
  },
  {
   "cell_type": "code",
   "execution_count": 16,
   "id": "043d11a2",
   "metadata": {},
   "outputs": [
    {
     "name": "stdout",
     "output_type": "stream",
     "text": [
      "['Its', 'Ninja', 'H2R', 'track-only', 'variant', 'is', 'the', 'fastest', 'and', 'most', 'powerful', 'production', 'motorcycle', 'on', 'the', 'market', ',', 'producing', 'a', 'maximum', 'of', '310', 'horsepower', '(', '230', 'kW', ')', 'and', '326', 'horsepower', '(', '243', 'kW', ')', 'with', 'ram-air', '.', '[', '1', ']', 'The', 'H2R', 'has', '50', '%', 'more', 'power', 'than', 'the', 'fastest', 'street-legal', 'motorcycles', ',', '[', 'which', '?', ']', 'while', 'the', 'street-legal', 'Ninja', 'H2', 'has', 'a', 'lower', 'power', 'output', 'of', '200', 'hp', '(', '150', 'kW', ')', '[', '21', ']', '–210', 'hp', '(', '160', 'kW', ')', 'with', 'ram-air', '.']\n"
     ]
    }
   ],
   "source": [
    "sent = \"Its Ninja H2R track-only variant is the fastest and most powerful production motorcycle on the market, producing a maximum of 310 horsepower (230 kW) and 326 horsepower (243 kW) with ram-air.[1] The H2R has 50% more power than the fastest street-legal motorcycles,[which?] while the street-legal Ninja H2 has a lower power output of 200 hp (150 kW)[21]–210 hp (160 kW) with ram-air.\"\n",
    "words=nltk.word_tokenize(sent)\n",
    "print(words)"
   ]
  },
  {
   "cell_type": "code",
   "execution_count": 17,
   "id": "5b9c2a8c",
   "metadata": {},
   "outputs": [
    {
     "name": "stdout",
     "output_type": "stream",
     "text": [
      "['Its', 'Ninja', 'H2R', 'track-only', 'variant', 'is', 'the', 'fastest', 'and', 'most', 'powerful', 'production', 'motorcycle', 'on', 'the', 'market', ',', 'producing', 'a', 'maximum', 'of', '310', 'horsepower', '(', '230', 'kW', ')', 'and', '326', 'horsepower', '(', '243', 'kW', ')', 'with', 'ram-air', '.']\n",
      "[('Its', 'PRP$'), ('Ninja', 'NNP'), ('H2R', 'NNP'), ('track-only', 'JJ'), ('variant', 'NN'), ('is', 'VBZ'), ('the', 'DT'), ('fastest', 'JJS'), ('and', 'CC'), ('most', 'RBS'), ('powerful', 'JJ'), ('production', 'NN'), ('motorcycle', 'NN'), ('on', 'IN'), ('the', 'DT'), ('market', 'NN'), (',', ','), ('producing', 'VBG'), ('a', 'DT'), ('maximum', 'NN'), ('of', 'IN'), ('310', 'CD'), ('horsepower', 'NN'), ('(', '('), ('230', 'CD'), ('kW', 'NN'), (')', ')'), ('and', 'CC'), ('326', 'CD'), ('horsepower', 'NN'), ('(', '('), ('243', 'CD'), ('kW', 'NN'), (')', ')'), ('with', 'IN'), ('ram-air', 'NN'), ('.', '.')]\n",
      "['[', '1', ']', 'The', 'H2R', 'has', '50', '%', 'more', 'power', 'than', 'the', 'fastest', 'street-legal', 'motorcycles', ',', '[', 'which', '?', ']']\n",
      "[('[', 'RB'), ('1', 'CD'), (']', 'VBD'), ('The', 'DT'), ('H2R', 'NNP'), ('has', 'VBZ'), ('50', 'CD'), ('%', 'NN'), ('more', 'JJR'), ('power', 'NN'), ('than', 'IN'), ('the', 'DT'), ('fastest', 'JJS'), ('street-legal', 'JJ'), ('motorcycles', 'NNS'), (',', ','), ('[', 'NN'), ('which', 'WDT'), ('?', '.'), (']', 'NN')]\n",
      "['while', 'the', 'street-legal', 'Ninja', 'H2', 'has', 'a', 'lower', 'power', 'output', 'of', '200', 'hp', '(', '150', 'kW', ')', '[', '21', ']', '–210', 'hp', '(', '160', 'kW', ')', 'with', 'ram-air', '.']\n",
      "[('while', 'IN'), ('the', 'DT'), ('street-legal', 'JJ'), ('Ninja', 'NNP'), ('H2', 'NNP'), ('has', 'VBZ'), ('a', 'DT'), ('lower', 'JJR'), ('power', 'NN'), ('output', 'NN'), ('of', 'IN'), ('200', 'CD'), ('hp', 'NN'), ('(', '('), ('150', 'CD'), ('kW', 'NN'), (')', ')'), ('[', 'VBZ'), ('21', 'CD'), (']', 'NN'), ('–210', 'NN'), ('hp', 'NN'), ('(', '('), ('160', 'CD'), ('kW', 'NN'), (')', ')'), ('with', 'IN'), ('ram-air', 'NN'), ('.', '.')]\n"
     ]
    }
   ],
   "source": [
    "texts = [\"\"\"Its Ninja H2R track-only variant is the fastest and most powerful production motorcycle on the market, producing a maximum of 310 horsepower (230 kW) and 326 horsepower (243 kW) with ram-air.[1] The H2R has 50% more power than the fastest street-legal motorcycles,[which?] while the street-legal Ninja H2 has a lower power output of 200 hp (150 kW)[21]–210 hp (160 kW) with ram-air.\"\"\"]\n",
    "for text in texts:\n",
    "    sentences = nltk.sent_tokenize(text)\n",
    "    for sentence in sentences:\n",
    "        words = nltk.word_tokenize(sentence)\n",
    "        print(words)\n",
    "        tagged = nltk.pos_tag(words)\n",
    "        print(tagged)"
   ]
  },
  {
   "cell_type": "code",
   "execution_count": null,
   "id": "a6821fe0",
   "metadata": {},
   "outputs": [],
   "source": []
  }
 ],
 "metadata": {
  "kernelspec": {
   "display_name": "Python 3 (ipykernel)",
   "language": "python",
   "name": "python3"
  },
  "language_info": {
   "codemirror_mode": {
    "name": "ipython",
    "version": 3
   },
   "file_extension": ".py",
   "mimetype": "text/x-python",
   "name": "python",
   "nbconvert_exporter": "python",
   "pygments_lexer": "ipython3",
   "version": "3.10.8"
  }
 },
 "nbformat": 4,
 "nbformat_minor": 5
}
